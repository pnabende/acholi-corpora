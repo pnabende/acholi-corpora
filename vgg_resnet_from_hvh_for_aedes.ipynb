{
  "nbformat": 4,
  "nbformat_minor": 0,
  "metadata": {
    "colab": {
      "provenance": [],
      "gpuType": "T4",
      "mount_file_id": "1jE2QgxXVrZfUEVHwsozyVe3LmOC860Qs",
      "authorship_tag": "ABX9TyMoJI6oQoOkOvtbC99Jvu0S",
      "include_colab_link": true
    },
    "kernelspec": {
      "name": "python3",
      "display_name": "Python 3"
    },
    "language_info": {
      "name": "python"
    },
    "accelerator": "GPU"
  },
  "cells": [
    {
      "cell_type": "markdown",
      "metadata": {
        "id": "view-in-github",
        "colab_type": "text"
      },
      "source": [
        "<a href=\"https://colab.research.google.com/github/pnabende/acholi-corpora/blob/master/vgg_resnet_from_hvh_for_aedes.ipynb\" target=\"_parent\"><img src=\"https://colab.research.google.com/assets/colab-badge.svg\" alt=\"Open In Colab\"/></a>"
      ]
    },
    {
      "cell_type": "code",
      "execution_count": 1,
      "metadata": {
        "id": "TYE9fTfaCTo1"
      },
      "outputs": [],
      "source": [
        "import numpy as np # linear algebra\n",
        "import pandas as pd # data processing, CSV file I/O (e.g. pd.read_csv)"
      ]
    },
    {
      "cell_type": "code",
      "source": [
        "import os\n",
        "import tensorflow as tf\n",
        "from tensorflow import keras\n",
        "from tensorflow.keras.optimizers import Adam\n",
        "from sklearn.model_selection import train_test_split\n",
        "from tensorflow.keras.metrics import categorical_crossentropy\n",
        "from tensorflow.keras.models import Model, load_model, Sequential\n",
        "from sklearn.metrics import confusion_matrix, classification_report\n",
        "from tensorflow.keras.preprocessing.image import ImageDataGenerator\n",
        "from tensorflow.keras.layers import Conv2D, MaxPooling2D, Flatten, Dense, Activation, Dropout, BatchNormalization"
      ],
      "metadata": {
        "id": "1TU_rNGjCmkj"
      },
      "execution_count": 2,
      "outputs": []
    },
    {
      "cell_type": "code",
      "source": [
        "import os\n",
        "\n",
        "# Specify the path to your dataset\n",
        "fpath = \"/content/drive/MyDrive/research/research-grants-successful/2023-ahumain/2024-belgium-training/week-2/nonaugmented-data/original-aedes-data/training\"\n",
        "dataset_path = fpath\n",
        "\n",
        "# Get a list of subdirectories (each subdirectory corresponds to a class)\n",
        "class_folders = [f.name for f in os.scandir(dataset_path) if f.is_dir()]\n",
        "\n",
        "# Get the number of classes\n",
        "num_classes = len(class_folders)\n",
        "\n",
        "# Print the number of classes\n",
        "print(\"Number of classes:\", num_classes)"
      ],
      "metadata": {
        "colab": {
          "base_uri": "https://localhost:8080/"
        },
        "id": "M5Qi7Q_cCzC9",
        "outputId": "d8db563e-35ae-4cb2-dc00-cd9710482e40"
      },
      "execution_count": 3,
      "outputs": [
        {
          "output_type": "stream",
          "name": "stdout",
          "text": [
            "Number of classes: 2\n"
          ]
        }
      ]
    },
    {
      "cell_type": "code",
      "source": [
        "img_size = 224\n",
        "batch_size =100\n",
        "\n",
        "ffpath=\"/content/drive/MyDrive/research/research-grants-successful/2023-ahumain/2024-belgium-training/week-2/nonaugmented-data/original-aedes-data/training\"\n",
        "fpath = \"/content/drive/MyDrive/research/research-grants-successful/2023-ahumain/2024-belgium-training/week-2/nonaugmented-data/original-aedes-data/validation\""
      ],
      "metadata": {
        "id": "BI8V1h6ADHtg"
      },
      "execution_count": 4,
      "outputs": []
    },
    {
      "cell_type": "code",
      "source": [
        "from tensorflow.keras.preprocessing.image import ImageDataGenerator\n",
        "\n",
        "# Assuming 'fpath' is the path to your dataset and 'batch_size' is defined\n",
        "\"\"\"\n",
        "datagen = ImageDataGenerator(\n",
        "    rescale=1/255.,\n",
        "    zoom_range=0.2,\n",
        "    validation_split=0.2,\n",
        "    rotation_range=30,\n",
        "    horizontal_flip=True\n",
        ")\n",
        "\"\"\"\n",
        "datagen = ImageDataGenerator(\n",
        "    rescale=1/255.,\n",
        "    validation_split=0.2)\n",
        "\n",
        "train_gen = datagen.flow_from_directory(\n",
        "    ffpath,\n",
        "    target_size=(224, 224),\n",
        "    subset=\"training\",\n",
        "    class_mode='categorical',\n",
        "    batch_size=batch_size\n",
        ")\n",
        "\n",
        "valid_gen = datagen.flow_from_directory(\n",
        "    ffpath,\n",
        "    target_size=(224, 224),\n",
        "    batch_size=100,\n",
        "    subset='validation',\n",
        "    class_mode='categorical'\n",
        ")\n",
        "\n",
        "# For test data\n",
        "test_gen = ImageDataGenerator(rescale=1/255.).flow_from_directory(\n",
        "    fpath,\n",
        "    target_size=(224, 224),\n",
        "    batch_size=100,\n",
        "    class_mode='categorical',\n",
        "    shuffle=False  # Set shuffle to False for test data\n",
        ")"
      ],
      "metadata": {
        "colab": {
          "base_uri": "https://localhost:8080/"
        },
        "id": "yOkzuVGfDgpt",
        "outputId": "820ad665-fb0d-40e6-ae84-78e6259bd63f"
      },
      "execution_count": 5,
      "outputs": [
        {
          "output_type": "stream",
          "name": "stdout",
          "text": [
            "Found 819 images belonging to 2 classes.\n",
            "Found 204 images belonging to 2 classes.\n",
            "Found 180 images belonging to 2 classes.\n"
          ]
        }
      ]
    },
    {
      "cell_type": "code",
      "source": [
        "import tensorflow as tf\n",
        "from tensorflow.keras.models import Sequential\n",
        "from tensorflow.keras.layers import Dense, Dropout, BatchNormalization\n",
        "from tensorflow.keras.callbacks import ModelCheckpoint\n",
        "\n",
        "# Assuming train_gen and valid_gen are your image data generators\n",
        "\n",
        "img_size = (224, 224)\n",
        "channels = 3\n",
        "img_shape = (img_size[0], img_size[1], channels)\n",
        "class_count = len(list(train_gen.class_indices.keys()))\n",
        "\n",
        "# Create pre-trained model\n",
        "base_model = tf.keras.applications.ResNet50(include_top=False, weights=\"imagenet\", input_shape=img_shape, pooling='max')\n",
        "for layer in base_model.layers:\n",
        "    layer.trainable = False\n",
        "model = Sequential([\n",
        "    base_model,\n",
        "    BatchNormalization(),\n",
        "    Dense(256, activation='relu'),\n",
        "    Dropout(0.3),\n",
        "     Dense(64, activation='relu'),\n",
        "    Dropout(0.3),\n",
        "    Dense(class_count, activation='softmax')\n",
        "])\n",
        "\n",
        "optimizer = tf.keras.optimizers.Adam()\n",
        "model.compile(optimizer=optimizer, loss='categorical_crossentropy', metrics=['accuracy'])\n",
        "\n",
        "# Define filepath to save the best model\n",
        "filepath = '/content/drive/MyDrive/research/research-grants-successful/2023-ahumain/2024-belgium-training/week-2/nonaugmented-data/original-aedes-data/best_model_resnet.h5'\n",
        "\n",
        "# Create ModelCheckpoint callback to save the best model based on validation accuracy\n",
        "checkpoint = ModelCheckpoint(filepath, monitor='val_accuracy', verbose=1, save_best_only=True, mode='max')\n",
        "# Train the model with the added callback\n",
        "history = model.fit(\n",
        "    x=train_gen,\n",
        "    epochs=20,\n",
        "    verbose=1,\n",
        "    validation_data=valid_gen,\n",
        "    callbacks=[checkpoint]\n",
        ")"
      ],
      "metadata": {
        "colab": {
          "base_uri": "https://localhost:8080/"
        },
        "id": "satRMVkeGvwq",
        "outputId": "79ca2fe2-0ca2-4d9b-aaae-4f662169f4fc"
      },
      "execution_count": 6,
      "outputs": [
        {
          "output_type": "stream",
          "name": "stdout",
          "text": [
            "Downloading data from https://storage.googleapis.com/tensorflow/keras-applications/resnet/resnet50_weights_tf_dim_ordering_tf_kernels_notop.h5\n",
            "94765736/94765736 [==============================] - 0s 0us/step\n",
            "Epoch 1/20\n",
            "9/9 [==============================] - ETA: 0s - loss: 0.6645 - accuracy: 0.6300 \n",
            "Epoch 1: val_accuracy improved from -inf to 0.50000, saving model to /content/drive/MyDrive/research/research-grants-successful/2023-ahumain/2024-belgium-training/week-2/nonaugmented-data/original-aedes-data/best_model_resnet.h5\n"
          ]
        },
        {
          "output_type": "stream",
          "name": "stderr",
          "text": [
            "/usr/local/lib/python3.10/dist-packages/keras/src/engine/training.py:3103: UserWarning: You are saving your model as an HDF5 file via `model.save()`. This file format is considered legacy. We recommend using instead the native Keras format, e.g. `model.save('my_model.keras')`.\n",
            "  saving_api.save_model(\n"
          ]
        },
        {
          "output_type": "stream",
          "name": "stdout",
          "text": [
            "\b\b\b\b\b\b\b\b\b\b\b\b\b\b\b\b\b\b\b\b\b\b\b\b\b\b\b\b\b\b\b\b\b\b\b\b\b\b\b\b\b\b\b\b\b\b\b\b\b\b\b\b\b\b\b\b\b\b\b\b\b\b\b\b\b\b\b\b\b\b\b\b\b\b\b\b\b\b\b\b\r9/9 [==============================] - 662s 80s/step - loss: 0.6645 - accuracy: 0.6300 - val_loss: 1.4477 - val_accuracy: 0.5000\n",
            "Epoch 2/20\n",
            "9/9 [==============================] - ETA: 0s - loss: 0.5447 - accuracy: 0.7253 \n",
            "Epoch 2: val_accuracy did not improve from 0.50000\n",
            "9/9 [==============================] - 130s 16s/step - loss: 0.5447 - accuracy: 0.7253 - val_loss: 1.0356 - val_accuracy: 0.5000\n",
            "Epoch 3/20\n",
            "9/9 [==============================] - ETA: 0s - loss: 0.5056 - accuracy: 0.7521 \n",
            "Epoch 3: val_accuracy did not improve from 0.50000\n",
            "9/9 [==============================] - 132s 15s/step - loss: 0.5056 - accuracy: 0.7521 - val_loss: 1.0272 - val_accuracy: 0.5000\n",
            "Epoch 4/20\n",
            "9/9 [==============================] - ETA: 0s - loss: 0.4347 - accuracy: 0.7888 \n",
            "Epoch 4: val_accuracy improved from 0.50000 to 0.50980, saving model to /content/drive/MyDrive/research/research-grants-successful/2023-ahumain/2024-belgium-training/week-2/nonaugmented-data/original-aedes-data/best_model_resnet.h5\n",
            "9/9 [==============================] - 123s 14s/step - loss: 0.4347 - accuracy: 0.7888 - val_loss: 0.6860 - val_accuracy: 0.5098\n",
            "Epoch 5/20\n",
            "9/9 [==============================] - ETA: 0s - loss: 0.4261 - accuracy: 0.8059 \n",
            "Epoch 5: val_accuracy did not improve from 0.50980\n",
            "9/9 [==============================] - 123s 14s/step - loss: 0.4261 - accuracy: 0.8059 - val_loss: 0.7121 - val_accuracy: 0.5000\n",
            "Epoch 6/20\n",
            "9/9 [==============================] - ETA: 0s - loss: 0.3898 - accuracy: 0.8315 \n",
            "Epoch 6: val_accuracy did not improve from 0.50980\n",
            "9/9 [==============================] - 121s 14s/step - loss: 0.3898 - accuracy: 0.8315 - val_loss: 1.0850 - val_accuracy: 0.5000\n",
            "Epoch 7/20\n",
            "9/9 [==============================] - ETA: 0s - loss: 0.3844 - accuracy: 0.8230 \n",
            "Epoch 7: val_accuracy improved from 0.50980 to 0.63725, saving model to /content/drive/MyDrive/research/research-grants-successful/2023-ahumain/2024-belgium-training/week-2/nonaugmented-data/original-aedes-data/best_model_resnet.h5\n",
            "9/9 [==============================] - 125s 14s/step - loss: 0.3844 - accuracy: 0.8230 - val_loss: 0.6494 - val_accuracy: 0.6373\n",
            "Epoch 8/20\n",
            "9/9 [==============================] - ETA: 0s - loss: 0.3452 - accuracy: 0.8425 \n",
            "Epoch 8: val_accuracy did not improve from 0.63725\n",
            "9/9 [==============================] - 125s 14s/step - loss: 0.3452 - accuracy: 0.8425 - val_loss: 0.6702 - val_accuracy: 0.5882\n",
            "Epoch 9/20\n",
            "9/9 [==============================] - ETA: 0s - loss: 0.3244 - accuracy: 0.8632 \n",
            "Epoch 9: val_accuracy did not improve from 0.63725\n",
            "9/9 [==============================] - 126s 14s/step - loss: 0.3244 - accuracy: 0.8632 - val_loss: 0.6874 - val_accuracy: 0.5490\n",
            "Epoch 10/20\n",
            "9/9 [==============================] - ETA: 0s - loss: 0.2949 - accuracy: 0.8828 \n",
            "Epoch 10: val_accuracy did not improve from 0.63725\n",
            "9/9 [==============================] - 121s 14s/step - loss: 0.2949 - accuracy: 0.8828 - val_loss: 0.6650 - val_accuracy: 0.5931\n",
            "Epoch 11/20\n",
            "9/9 [==============================] - ETA: 0s - loss: 0.2512 - accuracy: 0.8974 \n",
            "Epoch 11: val_accuracy did not improve from 0.63725\n",
            "9/9 [==============================] - 125s 14s/step - loss: 0.2512 - accuracy: 0.8974 - val_loss: 0.6354 - val_accuracy: 0.6176\n",
            "Epoch 12/20\n",
            "9/9 [==============================] - ETA: 0s - loss: 0.2753 - accuracy: 0.8803 \n",
            "Epoch 12: val_accuracy improved from 0.63725 to 0.65686, saving model to /content/drive/MyDrive/research/research-grants-successful/2023-ahumain/2024-belgium-training/week-2/nonaugmented-data/original-aedes-data/best_model_resnet.h5\n",
            "9/9 [==============================] - 122s 14s/step - loss: 0.2753 - accuracy: 0.8803 - val_loss: 0.6416 - val_accuracy: 0.6569\n",
            "Epoch 13/20\n",
            "9/9 [==============================] - ETA: 0s - loss: 0.2412 - accuracy: 0.8987 \n",
            "Epoch 13: val_accuracy did not improve from 0.65686\n",
            "9/9 [==============================] - 124s 14s/step - loss: 0.2412 - accuracy: 0.8987 - val_loss: 0.7015 - val_accuracy: 0.5882\n",
            "Epoch 14/20\n",
            "9/9 [==============================] - ETA: 0s - loss: 0.2174 - accuracy: 0.9072 \n",
            "Epoch 14: val_accuracy did not improve from 0.65686\n",
            "9/9 [==============================] - 118s 14s/step - loss: 0.2174 - accuracy: 0.9072 - val_loss: 0.8270 - val_accuracy: 0.5588\n",
            "Epoch 15/20\n",
            "9/9 [==============================] - ETA: 0s - loss: 0.2142 - accuracy: 0.9121 \n",
            "Epoch 15: val_accuracy did not improve from 0.65686\n",
            "9/9 [==============================] - 125s 14s/step - loss: 0.2142 - accuracy: 0.9121 - val_loss: 0.6281 - val_accuracy: 0.6176\n",
            "Epoch 16/20\n",
            "9/9 [==============================] - ETA: 0s - loss: 0.1867 - accuracy: 0.9219 \n",
            "Epoch 16: val_accuracy did not improve from 0.65686\n",
            "9/9 [==============================] - 115s 13s/step - loss: 0.1867 - accuracy: 0.9219 - val_loss: 0.6257 - val_accuracy: 0.6176\n",
            "Epoch 17/20\n",
            "9/9 [==============================] - ETA: 0s - loss: 0.1835 - accuracy: 0.9267 \n",
            "Epoch 17: val_accuracy did not improve from 0.65686\n",
            "9/9 [==============================] - 124s 14s/step - loss: 0.1835 - accuracy: 0.9267 - val_loss: 0.8067 - val_accuracy: 0.5686\n",
            "Epoch 18/20\n",
            "9/9 [==============================] - ETA: 0s - loss: 0.1407 - accuracy: 0.9524 \n",
            "Epoch 18: val_accuracy did not improve from 0.65686\n",
            "9/9 [==============================] - 121s 14s/step - loss: 0.1407 - accuracy: 0.9524 - val_loss: 0.6204 - val_accuracy: 0.6471\n",
            "Epoch 19/20\n",
            "9/9 [==============================] - ETA: 0s - loss: 0.1676 - accuracy: 0.9328 \n",
            "Epoch 19: val_accuracy improved from 0.65686 to 0.66176, saving model to /content/drive/MyDrive/research/research-grants-successful/2023-ahumain/2024-belgium-training/week-2/nonaugmented-data/original-aedes-data/best_model_resnet.h5\n",
            "9/9 [==============================] - 126s 14s/step - loss: 0.1676 - accuracy: 0.9328 - val_loss: 0.6432 - val_accuracy: 0.6618\n",
            "Epoch 20/20\n",
            "9/9 [==============================] - ETA: 0s - loss: 0.1427 - accuracy: 0.9414 \n",
            "Epoch 20: val_accuracy improved from 0.66176 to 0.66667, saving model to /content/drive/MyDrive/research/research-grants-successful/2023-ahumain/2024-belgium-training/week-2/nonaugmented-data/original-aedes-data/best_model_resnet.h5\n",
            "9/9 [==============================] - 124s 14s/step - loss: 0.1427 - accuracy: 0.9414 - val_loss: 0.6408 - val_accuracy: 0.6667\n"
          ]
        }
      ]
    },
    {
      "cell_type": "code",
      "source": [
        "import tensorflow as tf\n",
        "from tensorflow.keras.models import load_model, Model\n",
        "from tensorflow.keras.layers import Input, Average\n",
        "\n",
        "\n",
        "\n",
        "model= load_model('/content/drive/MyDrive/research/research-grants-successful/2023-ahumain/2024-belgium-training/week-2/nonaugmented-data/original-aedes-data/best_model_resnet.h5')\n",
        "\n",
        "train_score = model.evaluate(train_gen, steps=len(train_gen), verbose= 1)\n",
        "valid_score = model.evaluate(valid_gen, steps=len(valid_gen), verbose= 1)\n",
        "test_score = model.evaluate(test_gen, steps=len(test_gen), verbose= 1)\n",
        "\n",
        "print(\"Train Loss: \", train_score[0])\n",
        "print(\"Train Accuracy: \", train_score[1])\n",
        "print('-' * 20)\n",
        "print(\"Validation Loss: \", valid_score[0])\n",
        "print(\"Validation Accuracy: \", valid_score[1])\n",
        "print('-' * 20)\n",
        "print(\"Test Loss: \", test_score[0])\n",
        "print(\"Test Accuracy: \", test_score[1])"
      ],
      "metadata": {
        "colab": {
          "base_uri": "https://localhost:8080/"
        },
        "id": "lolgAkr_HrZ-",
        "outputId": "369dc6c8-e2d4-435c-e594-a6f2f587a18b"
      },
      "execution_count": 7,
      "outputs": [
        {
          "output_type": "stream",
          "name": "stdout",
          "text": [
            "9/9 [==============================] - 94s 10s/step - loss: 0.4460 - accuracy: 0.8022\n",
            "3/3 [==============================] - 26s 6s/step - loss: 0.6408 - accuracy: 0.6667\n",
            "2/2 [==============================] - 72s 60s/step - loss: 0.5590 - accuracy: 0.7056\n",
            "Train Loss:  0.446027010679245\n",
            "Train Accuracy:  0.8021978139877319\n",
            "--------------------\n",
            "Validation Loss:  0.64083331823349\n",
            "Validation Accuracy:  0.6666666865348816\n",
            "--------------------\n",
            "Test Loss:  0.5590264201164246\n",
            "Test Accuracy:  0.7055555582046509\n"
          ]
        }
      ]
    },
    {
      "cell_type": "code",
      "source": [
        "model = load_model('/content/drive/MyDrive/research/research-grants-successful/2023-ahumain/2024-belgium-training/week-2/nonaugmented-data/original-aedes-data/best_model_resnet.h5')\n",
        "preds = model.predict_generator(test_gen)\n",
        "y_pred = np.argmax(preds, axis=1)\n",
        "print(y_pred)"
      ],
      "metadata": {
        "colab": {
          "base_uri": "https://localhost:8080/"
        },
        "id": "0cVEEDTjHwms",
        "outputId": "12ac0fb7-eb7e-4c41-f9fb-98975886f7e4"
      },
      "execution_count": 8,
      "outputs": [
        {
          "output_type": "stream",
          "name": "stderr",
          "text": [
            "<ipython-input-8-316b157a9664>:2: UserWarning: `Model.predict_generator` is deprecated and will be removed in a future version. Please use `Model.predict`, which supports generators.\n",
            "  preds = model.predict_generator(test_gen)\n"
          ]
        },
        {
          "output_type": "stream",
          "name": "stdout",
          "text": [
            "[0 0 0 0 0 0 0 0 1 0 1 0 0 0 0 0 1 1 0 0 0 0 0 0 0 1 1 0 1 0 0 0 0 0 0 0 0\n",
            " 0 1 0 0 0 1 0 0 0 0 0 0 0 1 1 1 1 0 0 0 0 1 0 0 0 0 0 0 0 0 0 0 0 0 0 1 0\n",
            " 0 0 0 0 0 0 0 0 0 0 0 1 0 0 0 0 1 0 1 1 1 1 1 0 0 0 1 0 1 1 1 0 1 1 1 0 0\n",
            " 1 1 0 1 1 0 1 0 1 1 1 1 1 1 0 0 1 1 0 1 1 1 0 0 1 1 1 0 1 0 0 0 1 1 1 0 1\n",
            " 0 0 1 1 1 1 1 0 1 1 0 1 1 1 1 0 1 1 1 0 0 0 0 1 0 0 0 1 0 0 0 0]\n"
          ]
        }
      ]
    },
    {
      "cell_type": "code",
      "source": [
        "import itertools\n",
        "import matplotlib.pyplot as plt\n",
        "def plot_confusion_matrix(cm, classes, normalize= False, title= 'Confusion Matrix', cmap= plt.cm.Blues):\n",
        "    plt.figure(figsize= (10, 10))\n",
        "    plt.imshow(cm, interpolation= 'nearest', cmap= cmap)\n",
        "    plt.title(title)\n",
        "    plt.colorbar()\n",
        "    tick_marks = np.arange(len(classes))\n",
        "    plt.xticks(tick_marks, classes, rotation= 45)\n",
        "    plt.yticks(tick_marks, classes)\n",
        "    if normalize:\n",
        "        cm = cm.astype('float') / cm.sum(axis= 1)[:, np.newaxis]\n",
        "        print('Normalized Confusion Matrix')\n",
        "    else:\n",
        "        print('Confusion Matrix, Without Normalization')\n",
        "    print(cm)\n",
        "    thresh = cm.max() / 2.\n",
        "    for i, j in itertools.product(range(cm.shape[0]), range(cm.shape[1])):\n",
        "        plt.text(j, i, cm[i, j], horizontalalignment= 'center', color= 'white' if cm[i, j] > thresh else 'black')\n",
        "    plt.tight_layout()\n",
        "    plt.ylabel('True Label')\n",
        "    plt.xlabel('Predicted Label')"
      ],
      "metadata": {
        "id": "TMXwNeNsWqpN"
      },
      "execution_count": 10,
      "outputs": []
    },
    {
      "cell_type": "code",
      "source": [
        "from sklearn.metrics import confusion_matrix, classification_report\n",
        "import matplotlib.pyplot as plt\n",
        "\n",
        "target_names = ['1','2']\n",
        "# Confusion matrix\n",
        "cm = confusion_matrix(test_gen.classes, y_pred)\n",
        "plot_confusion_matrix(cm= cm, classes= target_names, title = 'Confusion Matrix')\n",
        "# Classification report\n",
        "print(classification_report(test_gen.classes, y_pred, target_names= target_names))"
      ],
      "metadata": {
        "colab": {
          "base_uri": "https://localhost:8080/",
          "height": 1000
        },
        "id": "r7M4V-xQH0o6",
        "outputId": "33621ca5-d858-4bc0-ca13-68c1f7edc465"
      },
      "execution_count": 11,
      "outputs": [
        {
          "output_type": "stream",
          "name": "stdout",
          "text": [
            "Confusion Matrix, Without Normalization\n",
            "[[74 16]\n",
            " [37 53]]\n",
            "              precision    recall  f1-score   support\n",
            "\n",
            "           1       0.67      0.82      0.74        90\n",
            "           2       0.77      0.59      0.67        90\n",
            "\n",
            "    accuracy                           0.71       180\n",
            "   macro avg       0.72      0.71      0.70       180\n",
            "weighted avg       0.72      0.71      0.70       180\n",
            "\n"
          ]
        },
        {
          "output_type": "display_data",
          "data": {
            "text/plain": [
              "<Figure size 1000x1000 with 2 Axes>"
            ],
            "image/png": "[encoded data removed]"
          },
          "metadata": {}
        }
      ]
    }
  ]
}